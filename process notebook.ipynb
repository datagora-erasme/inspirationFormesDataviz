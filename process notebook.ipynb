{
 "cells": [
  {
   "cell_type": "code",
   "execution_count": 158,
   "id": "c9af7837",
   "metadata": {},
   "outputs": [],
   "source": [
    "import pandas as pd"
   ]
  },
  {
   "cell_type": "code",
   "execution_count": 159,
   "id": "1e918f45",
   "metadata": {},
   "outputs": [],
   "source": [
    "credentials = json.loads(dotenv_values()[\"SERVICE_ACCOUNT\"])\n",
    "service_account = gspread.service_account_from_dict(credentials)\n",
    "sheets = service_account.open(\"Ils sont venus à l'urbanlab\")\n",
    "worksheet_2018 = sheets.worksheet(\"2018\")\n",
    "wks_dict_2018 = worksheet_2018.get_all_values()"
   ]
  },
  {
   "cell_type": "code",
   "execution_count": 160,
   "id": "c087e5fa",
   "metadata": {},
   "outputs": [],
   "source": [
    "df = pd.DataFrame(\n",
    "    wks_dict_2018[2:],\n",
    "    columns = wks_dict[1]\n",
    ")"
   ]
  },
  {
   "cell_type": "code",
   "execution_count": 161,
   "id": "819b463b",
   "metadata": {},
   "outputs": [],
   "source": [
    "col_interest = [\n",
    "    \"Date\",\n",
    "    \"Nombre\",\n",
    "    \n",
    "]\n",
    "\n",
    "df = df[col_interest]\n",
    "df[\"Date\"] = pd.to_datetime(df[\"Date\"])\n",
    "df[\"Date\"] = pd."
   ]
  },
  {
   "cell_type": "code",
   "execution_count": 162,
   "id": "b20cb979",
   "metadata": {},
   "outputs": [
    {
     "data": {
      "text/plain": [
       "53     5\n",
       "54    16\n",
       "55     6\n",
       "56    20\n",
       "57     7\n",
       "58     3\n",
       "59    60\n",
       "60    20\n",
       "61     6\n",
       "62     4\n",
       "Name: Nombre, dtype: object"
      ]
     },
     "execution_count": 162,
     "metadata": {},
     "output_type": "execute_result"
    }
   ],
   "source": [
    "df.dropna(inplace=True)\n",
    "df.reset_index(inplace=True, drop=True)\n",
    "df[\"Nombre\"].tail(10)"
   ]
  },
  {
   "cell_type": "code",
   "execution_count": 190,
   "id": "b9df50d2",
   "metadata": {},
   "outputs": [],
   "source": [
    "new_df = pd.DataFrame()\n",
    "for index, line in df.iterrows():\n",
    "    for i in range(int(line[\"Nombre\"])):\n",
    "        new_df = new_df.append(pd.DataFrame({\n",
    "            \"Nombre\": [1],\n",
    "            \"Date\": [line[\"Date\"]],\n",
    "            \"year\": 2018\n",
    "        }))\n",
    "new_df.reset_index(drop=True, inplace=True)\n",
    "new_df[\"Date\"] = new_df.apply(\n",
    "    axis=1,\n",
    "    func=lambda x: x[\"Date\"].replace(year=2018)\n",
    ")"
   ]
  },
  {
   "cell_type": "code",
   "execution_count": 191,
   "id": "2dc40db3",
   "metadata": {},
   "outputs": [
    {
     "data": {
      "text/plain": [
       "<seaborn.axisgrid.FacetGrid at 0x18118a9f520>"
      ]
     },
     "execution_count": 191,
     "metadata": {},
     "output_type": "execute_result"
    },
    {
     "data": {
      "image/png": "[encoded data removed]",
      "text/plain": [
       "<Figure size 424.1x360 with 1 Axes>"
      ]
     },
     "metadata": {},
     "output_type": "display_data"
    }
   ],
   "source": [
    "import numpy as np\n",
    "import pandas as pd\n",
    "import seaborn as sns\n",
    "import matplotlib.pyplot as plt\n",
    "sns.set_theme(style=\"white\", rc={\"axes.facecolor\": (0, 0, 0, 0)})\n",
    "\n",
    "sns.displot(\n",
    "    data=new_df,\n",
    "    x=\"Date\",\n",
    "    kind='kde',\n",
    "    hue='year'\n",
    ")"
   ]
  },
  {
   "cell_type": "code",
   "execution_count": 189,
   "id": "49a122b4",
   "metadata": {},
   "outputs": [
    {
     "data": {
      "text/plain": [
       "0      2018-10-26\n",
       "1      2018-10-26\n",
       "2      2018-10-26\n",
       "3      2018-10-26\n",
       "4      2018-10-26\n",
       "          ...    \n",
       "1265   2018-09-01\n",
       "1266   2018-08-01\n",
       "1267   2018-08-01\n",
       "1268   2018-08-01\n",
       "1269   2018-08-01\n",
       "Length: 1270, dtype: datetime64[ns]"
      ]
     },
     "execution_count": 189,
     "metadata": {},
     "output_type": "execute_result"
    }
   ],
   "source": [
    "new_df"
   ]
  }
 ],
 "metadata": {
  "kernelspec": {
   "display_name": "Python 3 (ipykernel)",
   "language": "python",
   "name": "python3"
  },
  "language_info": {
   "codemirror_mode": {
    "name": "ipython",
    "version": 3
   },
   "file_extension": ".py",
   "mimetype": "text/x-python",
   "name": "python",
   "nbconvert_exporter": "python",
   "pygments_lexer": "ipython3",
   "version": "3.9.7"
  }
 },
 "nbformat": 4,
 "nbformat_minor": 5
}
